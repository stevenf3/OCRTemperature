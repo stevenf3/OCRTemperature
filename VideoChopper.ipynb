{
 "cells": [
  {
   "cell_type": "code",
   "execution_count": 1,
   "id": "f699f87c",
   "metadata": {},
   "outputs": [],
   "source": [
    "import cv2\n",
    "import matplotlib.pyplot as plt\n",
    "from datetime import datetime, timedelta\n",
    "import tkinter.filedialog as tkfd\n"
   ]
  },
  {
   "cell_type": "code",
   "execution_count": null,
   "id": "a7c7a0fe",
   "metadata": {},
   "outputs": [],
   "source": [
    "videopath = tkfd.askopenfilename(filetypes=[('mov files', '*.mov'), ('mp4 files', '*.mp4')])\n",
    "cap = cv2.VideoCapture(videopath)\n",
    "\n",
    "fps = cap.get(cv2.CAP_PROP_FPS)\n",
    "\n",
    "frame_count = 0\n",
    "success, frame = cap.read()\n",
    "timestamp_str = '0.00s'\n",
    "\n",
    "while success:\n",
    "\n",
    "    if frame_count % 1 == 0:\n",
    "        print('Frame: ', frame_count)\n",
    "        #roi = frame[200:400, 100:300]\n",
    "        cv2.imwrite(f'unprocessed_frame{frame_count}_{timestamp_str}.png' , frame)\n",
    "\n",
    "    time_s = cap.get(cv2.CAP_PROP_POS_MSEC) / 1000\n",
    "    timestamp_str = f'{time_s:.2f}s'\n",
    "    success, frame = cap.read()\n",
    "    print('Time: ', timestamp_str)\n",
    "    print('Read a new frame: ', success)\n",
    "    frame_count += 1"
   ]
  }
 ],
 "metadata": {
  "kernelspec": {
   "display_name": "Python 3",
   "language": "python",
   "name": "python3"
  },
  "language_info": {
   "codemirror_mode": {
    "name": "ipython",
    "version": 3
   },
   "file_extension": ".py",
   "mimetype": "text/x-python",
   "name": "python",
   "nbconvert_exporter": "python",
   "pygments_lexer": "ipython3",
   "version": "3.11.0"
  }
 },
 "nbformat": 4,
 "nbformat_minor": 5
}
